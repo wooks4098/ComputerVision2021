{
 "cells": [
  {
   "cell_type": "code",
   "execution_count": 1,
   "metadata": {},
   "outputs": [],
   "source": [
    "import cv2\n",
    "import numpy as np\n",
    "from matplotlib import pyplot as plt\n",
    "\n",
    "\n",
    "def get_coin (roi, blur, th, cl_size, cl_iter) :\n",
    "    img = cv2.cvtColor (roi, cv2.COLOR_BGR2GRAY)\n",
    "    img_blur = cv2.GaussianBlur (img, (15, 15), blur)\n",
    "    thresh = cv2.adaptiveThreshold (img_blur, 255, cv2.ADAPTIVE_THRESH_GAUSSIAN_C, cv2.THRESH_BINARY_INV, 11, th)\n",
    "    \n",
    "    kernel = np.ones((cl_size,cl_size), np.uint8)\n",
    "    closing = cv2.morphologyEx(thresh, cv2.MORPH_CLOSE, kernel, iterations=cl_iter)\n",
    "    cont_img = closing.copy()\n",
    "    contours, hierarchy = cv2.findContours(cont_img, cv2.RETR_EXTERNAL, cv2.CHAIN_APPROX_SIMPLE)\n",
    "\n",
    "    for cnt in contours :\n",
    "        area = cv2.contourArea (cnt)\n",
    "        if (area < 250 or area > 7000) :\n",
    "            continue\n",
    "\n",
    "        if (len(cnt) < 5) :\n",
    "            continue\n",
    "\n",
    "        ellipse = cv2.fitEllipse(cnt)\n",
    "        cv2.ellipse (roi, ellipse, (0, 255, 0), 2)\n",
    "\n",
    "    cv2.imshow ('Thresholding', thresh)\n",
    "    cv2.imshow ('Closing', closing)\n",
    "    cv2.imshow ('Result', roi)\n",
    "    cv2.waitKey (0)\n",
    "    cv2.destroyAllWindows()\n",
    "\n",
    "roi = cv2.imread ('sIMG_8253.jpg')\n",
    "get_coin (roi, 0, 2, 3, 4)\n",
    "roi = cv2.imread ('sIMG_8254.jpg')\n",
    "get_coin (roi, 0, 3, 2, 2)\n",
    "roi = cv2.imread ('sIMG_8255.jpg')\n",
    "get_coin (roi, -1, 4, 1, 10)\n",
    "roi = cv2.imread ('sIMG_8256.jpg')\n",
    "get_coin (roi, 1, 5, 2, 1)"
   ]
  },
  {
   "cell_type": "code",
   "execution_count": null,
   "metadata": {},
   "outputs": [],
   "source": []
  }
 ],
 "metadata": {
  "kernelspec": {
   "display_name": "Python 3",
   "language": "python",
   "name": "python3"
  },
  "language_info": {
   "codemirror_mode": {
    "name": "ipython",
    "version": 3
   },
   "file_extension": ".py",
   "mimetype": "text/x-python",
   "name": "python",
   "nbconvert_exporter": "python",
   "pygments_lexer": "ipython3",
   "version": "3.8.3"
  }
 },
 "nbformat": 4,
 "nbformat_minor": 4
}
