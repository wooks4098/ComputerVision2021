{
 "cells": [
  {
   "cell_type": "code",
   "execution_count": null,
   "id": "b34747ef",
   "metadata": {},
   "outputs": [],
   "source": [
    "import cv2\n",
    "import numpy as np\n",
    "from matplotlib import pyplot as plt"
   ]
  },
  {
   "cell_type": "code",
   "execution_count": null,
   "id": "d48e3f38",
   "metadata": {},
   "outputs": [],
   "source": [
    "x = np.uint8([250])"
   ]
  },
  {
   "cell_type": "code",
   "execution_count": null,
   "id": "04e6d3d5",
   "metadata": {},
   "outputs": [],
   "source": [
    "y = np.uint8([10])"
   ]
  },
  {
   "cell_type": "code",
   "execution_count": null,
   "id": "ce96ebcd",
   "metadata": {},
   "outputs": [],
   "source": [
    "print (x)"
   ]
  },
  {
   "cell_type": "code",
   "execution_count": null,
   "id": "316b6f94",
   "metadata": {},
   "outputs": [],
   "source": [
    "print(y)"
   ]
  },
  {
   "cell_type": "code",
   "execution_count": null,
   "id": "e9bffd97",
   "metadata": {},
   "outputs": [],
   "source": [
    "x+y"
   ]
  },
  {
   "cell_type": "code",
   "execution_count": null,
   "id": "58000835",
   "metadata": {},
   "outputs": [],
   "source": [
    "cv2.add(x,y)"
   ]
  },
  {
   "cell_type": "code",
   "execution_count": null,
   "id": "013f9eb3",
   "metadata": {},
   "outputs": [],
   "source": [
    "img1 = cv2.imread('1.png')\n",
    "img2 = cv2.imread('2.png')\n"
   ]
  },
  {
   "cell_type": "code",
   "execution_count": null,
   "id": "063c5446",
   "metadata": {},
   "outputs": [],
   "source": [
    "dst = cv2.addWeighted(img1,0.7,img2,0.3,0)\n"
   ]
  },
  {
   "cell_type": "code",
   "execution_count": null,
   "id": "c7769534",
   "metadata": {},
   "outputs": [],
   "source": [
    "cv2.imshow('dst',dst)\n",
    "cv2.waitKey(0)\n",
    "cv2.destroyAllWindows()"
   ]
  },
  {
   "cell_type": "code",
   "execution_count": null,
   "id": "13c46ac0",
   "metadata": {},
   "outputs": [],
   "source": []
  },
  {
   "cell_type": "code",
   "execution_count": null,
   "id": "fc1ab7dd",
   "metadata": {},
   "outputs": [],
   "source": [
    "def nothing (x) :\n",
    "    pass"
   ]
  },
  {
   "cell_type": "code",
   "execution_count": null,
   "id": "2c0d5d6a-d75a-4adf-8899-7dc4df14433b",
   "metadata": {},
   "outputs": [],
   "source": [
    "cv2.namedWindow('image')\n"
   ]
  },
  {
   "cell_type": "code",
   "execution_count": null,
   "id": "57609109-b0b7-428a-a822-85bf93913862",
   "metadata": {},
   "outputs": [],
   "source": [
    "cv2.createTrackbar('weight','image', 0, 255, nothing)"
   ]
  },
  {
   "cell_type": "code",
   "execution_count": null,
   "id": "f62be231-ced5-4210-9d31-6f2a11442544",
   "metadata": {},
   "outputs": [],
   "source": [
    "while(1):\n",
    "    k = cv2.waitKey(1) & 0xFF\n",
    "    if k == 27:\n",
    "        break;\n",
    "    \n",
    "    weight = cv2.getTrackbarPos('weight','image')\n",
    "    dst = cv2.addWeighted(img1,weight/255,img2,1-weight/255,0)\n",
    "    cv2.imshow('image',dst)\n",
    "cv2.destroyAllWindows()"
   ]
  },
  {
   "cell_type": "code",
   "execution_count": null,
   "id": "b44ee35d-f138-43fc-8f67-747e2f717d3e",
   "metadata": {},
   "outputs": [],
   "source": [
    "rows,cols,channels = img2.shape\n",
    "roi = img1[0:rows, 0:cols ]\n",
    "# Now create a mask of logo and create its inverse mask also\n",
    "img2gray = cv2.cvtColor(img2,cv2.COLOR_BGR2GRAY)\n",
    "ret, mask = cv2.threshold(img2gray, 10, 255, cv2.THRESH_BINARY)\n",
    "mask_inv = cv2.bitwise_not(mask)\n",
    "# Now black-out the area of logo in ROI\n",
    "img1_bg = cv2.bitwise_and(roi,roi,mask = mask_inv)\n",
    "# Take only region of logo from logo image.\n",
    "img2_fg = cv2.bitwise_and(img2,img2,mask = mask)\n",
    "# Put logo in ROI and modify the main image\n",
    "dst = cv2.add(img1_bg,img2_fg)\n",
    "img1[0:rows, 0:cols ] = dst\n",
    "cv2.imshow('res',img1)\n",
    "cv2.waitKey(0)\n",
    "cv2.destroyAllWindows()"
   ]
  },
  {
   "cell_type": "code",
   "execution_count": null,
   "id": "7ca865b6-cc25-46d9-96f4-c7a2c0613acf",
   "metadata": {},
   "outputs": [],
   "source": []
  }
 ],
 "metadata": {
  "kernelspec": {
   "display_name": "Python 3",
   "language": "python",
   "name": "python3"
  },
  "language_info": {
   "codemirror_mode": {
    "name": "ipython",
    "version": 3
   },
   "file_extension": ".py",
   "mimetype": "text/x-python",
   "name": "python",
   "nbconvert_exporter": "python",
   "pygments_lexer": "ipython3",
   "version": "3.8.8"
  }
 },
 "nbformat": 4,
 "nbformat_minor": 5
}
