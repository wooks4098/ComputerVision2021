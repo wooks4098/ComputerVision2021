{
 "cells": [
  {
   "cell_type": "code",
   "execution_count": 4,
   "metadata": {},
   "outputs": [
    {
     "ename": "error",
     "evalue": "OpenCV(4.5.3) C:\\Users\\runneradmin\\AppData\\Local\\Temp\\pip-req-build-q3d_8t8e\\opencv\\modules\\highgui\\src\\window_w32.cpp:2577: error: (-27:Null pointer) NULL window: 'image' in function 'cvGetTrackbarPos'\n",
     "output_type": "error",
     "traceback": [
      "\u001b[1;31m---------------------------------------------------------------------------\u001b[0m",
      "\u001b[1;31merror\u001b[0m                                     Traceback (most recent call last)",
      "\u001b[1;32m<ipython-input-4-7d5e3bf99a21>\u001b[0m in \u001b[0;36m<module>\u001b[1;34m\u001b[0m\n\u001b[0;32m     55\u001b[0m         \u001b[1;32mbreak\u001b[0m\u001b[1;33m\u001b[0m\u001b[1;33m\u001b[0m\u001b[0m\n\u001b[0;32m     56\u001b[0m          \u001b[1;31m# Get current potisions of four trackbars\u001b[0m\u001b[1;33m\u001b[0m\u001b[1;33m\u001b[0m\u001b[1;33m\u001b[0m\u001b[0m\n\u001b[1;32m---> 57\u001b[1;33m     \u001b[0mr\u001b[0m \u001b[1;33m=\u001b[0m \u001b[0mcv2\u001b[0m\u001b[1;33m.\u001b[0m\u001b[0mgetTrackbarPos\u001b[0m \u001b[1;33m(\u001b[0m\u001b[1;34m'R'\u001b[0m\u001b[1;33m,\u001b[0m \u001b[1;34m'image'\u001b[0m\u001b[1;33m)\u001b[0m\u001b[1;33m\u001b[0m\u001b[1;33m\u001b[0m\u001b[0m\n\u001b[0m\u001b[0;32m     58\u001b[0m     \u001b[0mcv2\u001b[0m\u001b[1;33m.\u001b[0m\u001b[0mputText\u001b[0m\u001b[1;33m(\u001b[0m\u001b[0mimg\u001b[0m\u001b[1;33m,\u001b[0m\u001b[1;34m'OpenCV'\u001b[0m\u001b[1;33m,\u001b[0m\u001b[1;33m(\u001b[0m\u001b[1;36m10\u001b[0m\u001b[1;33m,\u001b[0m\u001b[1;36m500\u001b[0m\u001b[1;33m)\u001b[0m\u001b[1;33m,\u001b[0m \u001b[0mfont\u001b[0m\u001b[1;33m,\u001b[0m \u001b[1;36m4\u001b[0m\u001b[1;33m,\u001b[0m\u001b[1;33m(\u001b[0m\u001b[1;36m255\u001b[0m\u001b[1;33m,\u001b[0m\u001b[0mr\u001b[0m\u001b[1;33m,\u001b[0m\u001b[1;36m255\u001b[0m\u001b[1;33m)\u001b[0m\u001b[1;33m,\u001b[0m\u001b[1;36m2\u001b[0m\u001b[1;33m,\u001b[0m\u001b[0mcv2\u001b[0m\u001b[1;33m.\u001b[0m\u001b[0mLINE_AA\u001b[0m\u001b[1;33m)\u001b[0m\u001b[1;33m\u001b[0m\u001b[1;33m\u001b[0m\u001b[0m\n\u001b[0;32m     59\u001b[0m \u001b[1;33m\u001b[0m\u001b[0m\n",
      "\u001b[1;31merror\u001b[0m: OpenCV(4.5.3) C:\\Users\\runneradmin\\AppData\\Local\\Temp\\pip-req-build-q3d_8t8e\\opencv\\modules\\highgui\\src\\window_w32.cpp:2577: error: (-27:Null pointer) NULL window: 'image' in function 'cvGetTrackbarPos'\n"
     ]
    }
   ],
   "source": [
    "import cv2\n",
    "import numpy as np\n",
    "\n",
    "drawing = False # ture if mouse is pressed\n",
    "mode = True # if True, draw rectangle. press 'm' to toggle to curve\n",
    "ix, iy = -1, -1\n",
    "def nothing (x) :\n",
    "    pass\n",
    "\n",
    "# Create a black image, a window\n",
    "img = np.zeros ((300, 512, 3), np.uint8)\n",
    "cv2.namedWindow ('image')\n",
    "\n",
    "# Create trackbars for color change\n",
    "cv2.createTrackbar ('R', 'image', 0, 255, nothing)\n",
    "\n",
    "\n",
    "# Cretae switch for ON/OFF functionality\n",
    "\n",
    "\n",
    "# mouse callback function \n",
    "def draw_circle (event, x, y, flags, param) :\n",
    "    global ix, iy, drawing, mode\n",
    "    \n",
    "    if (event == cv2.EVENT_LBUTTONDOWN) :\n",
    "        drawing = True\n",
    "        ix, iy = x, y\n",
    "        \n",
    "    elif (event == cv2.EVENT_MOUSEMOVE) :\n",
    "        if drawing == True :\n",
    "            if mode == True :\n",
    "                img[:]= np.zeros((512,512,3),np.uint8)\n",
    "                cv2.rectangle (img, (ix, iy), (x, y), (0, 255, 0), -1)\n",
    "            else :\n",
    "                cv2.circle (img, (x, y), 5, (0, 0, 255), -1)\n",
    "                \n",
    "    elif (event == cv2.EVENT_LBUTTONUP) :\n",
    "        drawing = False\n",
    "        if (mode == True) :\n",
    "            cv2.rectangle (img, (ix, iy), (x, y), (0, 255, 0), -1)\n",
    "        else :\n",
    "            cv2.circle (img, (x, y), 5, (0, 0, 255), -1)\n",
    "                \n",
    "img = np.zeros ((512, 512, 3), np.uint8)\n",
    "cv2.namedWindow('image')\n",
    "cv2.setMouseCallback ('image', draw_circle)\n",
    "font = cv2.FONT_HERSHEY_SIMPLEX\n",
    "cv2.putText(img,'OpenCV',(10,500), font, 4,(255,255,255),2,cv2.LINE_AA)\n",
    "while (1) :\n",
    "    cv2.imshow ('image', img)\n",
    "    k = cv2.waitKey(1) & 0xFF\n",
    "    if k == ord('m') :\n",
    "        mode = not mode\n",
    "    elif k == 27 :\n",
    "        break\n",
    "         # Get current potisions of four trackbars\n",
    "    r = cv2.getTrackbarPos ('R', 'image')\n",
    "    cv2.putText(img,'OpenCV',(10,500), font, 4,(255,r,255),2,cv2.LINE_AA)\n",
    "        \n",
    "cv2.destroyAllWindows()"
   ]
  },
  {
   "cell_type": "code",
   "execution_count": null,
   "metadata": {},
   "outputs": [],
   "source": []
  },
  {
   "cell_type": "code",
   "execution_count": null,
   "metadata": {},
   "outputs": [],
   "source": []
  }
 ],
 "metadata": {
  "kernelspec": {
   "display_name": "Python 3",
   "language": "python",
   "name": "python3"
  },
  "language_info": {
   "codemirror_mode": {
    "name": "ipython",
    "version": 3
   },
   "file_extension": ".py",
   "mimetype": "text/x-python",
   "name": "python",
   "nbconvert_exporter": "python",
   "pygments_lexer": "ipython3",
   "version": "3.8.8"
  }
 },
 "nbformat": 4,
 "nbformat_minor": 4
}
