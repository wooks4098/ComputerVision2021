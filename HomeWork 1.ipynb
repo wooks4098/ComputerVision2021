import cv2
import numpy as np

drawing = False # ture if mouse is pressed
mode = True # if True, draw rectangle. press 'm' to toggle to curve
ix, iy = -1, -1
def nothing (x) :
    pass

# Create a black image, a window
img = np.zeros ((300, 512, 3), np.uint8)
cv2.namedWindow ('image')

# Create trackbars for color change
cv2.createTrackbar ('R', 'image', 0, 255, nothing)


# Cretae switch for ON/OFF functionality


# mouse callback function 
def draw_circle (event, x, y, flags, param) :
    global ix, iy, drawing, mode
    
    if (event == cv2.EVENT_LBUTTONDOWN) :
        drawing = True
        ix, iy = x, y
        
    elif (event == cv2.EVENT_MOUSEMOVE) :
        if drawing == True :
            if mode == True :
                img[:]= np.zeros((512,512,3),np.uint8)
                cv2.rectangle (img, (ix, iy), (x, y), (0, 255, 0), -1)
            else :
                cv2.circle (img, (x, y), 5, (0, 0, 255), -1)
                
    elif (event == cv2.EVENT_LBUTTONUP) :
        drawing = False
        if (mode == True) :
            cv2.rectangle (img, (ix, iy), (x, y), (0, 255, 0), -1)
        else :
            cv2.circle (img, (x, y), 5, (0, 0, 255), -1)
                
img = np.zeros ((512, 512, 3), np.uint8)
cv2.namedWindow('image')
cv2.setMouseCallback ('image', draw_circle)
font = cv2.FONT_HERSHEY_SIMPLEX
cv2.putText(img,'OpenCV',(10,500), font, 4,(255,255,255),2,cv2.LINE_AA)
while (1) :
    cv2.imshow ('image', img)
    k = cv2.waitKey(1) & 0xFF
    if k == ord('m') :
        mode = not mode
    elif k == 27 :
        break
         # Get current potisions of four trackbars
    r = cv2.getTrackbarPos ('R', 'image')
    cv2.putText(img,'OpenCV',(10,500), font, 4,(255,r,255),2,cv2.LINE_AA)
        
cv2.destroyAllWindows()
