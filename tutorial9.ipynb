{
 "cells": [
  {
   "cell_type": "markdown",
   "metadata": {},
   "source": [
    "# Function in Python\n",
    "\n",
    "### Function definition begins with 'def'\n",
    "### Function name and arguments\n",
    "\n",
    "\n",
    "<code>\n",
    "    def get_final_answer (filename) :\n",
    "        \"\"\"Documentation String\"\"\"\n",
    "        line 1\n",
    "        line 2\n",
    "        return total_counter\n",
    "</code>\n",
    "\n",
    "### 'return' indicates the value to be sent back to the caller."
   ]
  },
  {
   "cell_type": "code",
   "execution_count": 1,
   "metadata": {},
   "outputs": [],
   "source": [
    "def myfun (x, y) :\n",
    "    return x*y"
   ]
  },
  {
   "cell_type": "code",
   "execution_count": 2,
   "metadata": {},
   "outputs": [
    {
     "data": {
      "text/plain": [
       "12"
      ]
     },
     "execution_count": 2,
     "metadata": {},
     "output_type": "execute_result"
    }
   ],
   "source": [
    "myfun (3, 4)"
   ]
  },
  {
   "cell_type": "markdown",
   "metadata": {},
   "source": [
    "## Function without returns \n",
    "<h3>\n",
    "    <ul>\n",
    "        <li>All fucntions in python have a return value</li>\n",
    "        <h4>\n",
    "            <ul> \n",
    "                <li>even if no return line inside the code</li>\n",
    "            </ul>        \n",
    "        </h4>\n",
    "        <li> Functions without a return return the special value None </li>\n",
    "        <h4>\n",
    "                <ul> \n",
    "                    <li>None is a special constant in the language</li>\n",
    "                    <li>None is used like null in java</li>\n",
    "                    <li>None is also logically equivalent to False</li>\n",
    "                    <li>The interpreter doesn't print None</li>\n",
    "                </ul>        \n",
    "            </h4>\n",
    "    </ul>    \n",
    "</h3>\n",
    "\n",
    "## There no function overloading in python\n",
    "<h3>\n",
    "    <ul>\n",
    "        <li>Unlike java, a python function is specified by its name alone</li>\n",
    "        <h4>\n",
    "            <ul> \n",
    "                <li>The number, order, names, or types of its arguments cannot be used to distinguish between two functions with the name name</li>\n",
    "            </ul>        \n",
    "        </h4>\n",
    "        <li> Two different functions can't have the same name, even if they have different numbers of arguments </li>\n",
    "        <li> But operator overloading - overloading +, ==, -, etc. - is possible using special methods on various classes </li>\n",
    "    </ul>\n",
    " </h3>\n",
    " \n",
    " ## Functions are first-class objects in python\n",
    "  <h3>\n",
    "    <ul>\n",
    "        <li>Functions can be used just like any other data</li>\n",
    "        <li>They can be</li>\n",
    "        <h4>\n",
    "            <ul>\n",
    "                <li>Arguments to function</li>\n",
    "                <li>Return values of function</li>\n",
    "                <li>Assigned to variables</li>\n",
    "                <li>Parts of tuples, lists, etc</li>\n",
    "                <li>...</li>\n",
    "            </ul>\n",
    "        </h4>\n",
    "    </ul>\n",
    " </h3>"
   ]
  },
  {
   "cell_type": "code",
   "execution_count": 3,
   "metadata": {},
   "outputs": [],
   "source": [
    "def myfun (x) :\n",
    "    return x*3"
   ]
  },
  {
   "cell_type": "code",
   "execution_count": 5,
   "metadata": {},
   "outputs": [],
   "source": [
    "def apply (q, x) :\n",
    "    return q(x)"
   ]
  },
  {
   "cell_type": "code",
   "execution_count": 6,
   "metadata": {},
   "outputs": [
    {
     "data": {
      "text/plain": [
       "21"
      ]
     },
     "execution_count": 6,
     "metadata": {},
     "output_type": "execute_result"
    }
   ],
   "source": [
    "apply (myfun, 7)"
   ]
  },
  {
   "cell_type": "markdown",
   "metadata": {},
   "source": [
    "## Lambda Notation\n",
    "\n",
    "<h3>\n",
    "    <ul>\n",
    "        <li>Functinos can be defined without giving them names.</li>\n",
    "        <li>This is most useful when passing a short function as an arguments to another function.</li>\n",
    "        <li>The first argument to apply() is an unnamed function that takes one input and return the input mulitplied by four.</li>\n",
    "        <li>Note : Only single-expression functinos can be defined using this lambda notation.</li>\n",
    "        <li>Lambda notation has a rich history in CS research and the design of many current programming languages.</li>\n",
    "    </ul>\n",
    "</h3>"
   ]
  },
  {
   "cell_type": "code",
   "execution_count": 7,
   "metadata": {},
   "outputs": [
    {
     "data": {
      "text/plain": [
       "28"
      ]
     },
     "execution_count": 7,
     "metadata": {},
     "output_type": "execute_result"
    }
   ],
   "source": [
    "aplly (lambda z : z*4, 7)"
   ]
  },
  {
   "cell_type": "markdown",
   "metadata": {},
   "source": [
    "## Default Values for Arguments\n",
    "<h3>\n",
    "    <ul>\n",
    "        <li>You can provide default values for a function's arguments</li>\n",
    "        <li>These arguments are optional when the function is called</li>\n",
    "    </ul>\n",
    "</h3>"
   ]
  },
  {
   "cell_type": "code",
   "execution_count": 8,
   "metadata": {},
   "outputs": [],
   "source": [
    "def myfun (b, c=3, d=\"hello\") :\n",
    "    return b+c"
   ]
  },
  {
   "cell_type": "code",
   "execution_count": 10,
   "metadata": {},
   "outputs": [
    {
     "data": {
      "text/plain": [
       "8"
      ]
     },
     "execution_count": 10,
     "metadata": {},
     "output_type": "execute_result"
    }
   ],
   "source": [
    "myfun(5)"
   ]
  },
  {
   "cell_type": "code",
   "execution_count": 11,
   "metadata": {},
   "outputs": [
    {
     "data": {
      "text/plain": [
       "8"
      ]
     },
     "execution_count": 11,
     "metadata": {},
     "output_type": "execute_result"
    }
   ],
   "source": [
    "myfun (5, 3, \"Hello\")"
   ]
  },
  {
   "cell_type": "code",
   "execution_count": 12,
   "metadata": {},
   "outputs": [
    {
     "data": {
      "text/plain": [
       "15"
      ]
     },
     "execution_count": 12,
     "metadata": {},
     "output_type": "execute_result"
    }
   ],
   "source": [
    "myfun (5, 10, \"Hello\")"
   ]
  },
  {
   "cell_type": "code",
   "execution_count": 13,
   "metadata": {},
   "outputs": [
    {
     "data": {
      "text/plain": [
       "15"
      ]
     },
     "execution_count": 13,
     "metadata": {},
     "output_type": "execute_result"
    }
   ],
   "source": [
    "myfun (5, 10)"
   ]
  },
  {
   "cell_type": "code",
   "execution_count": 14,
   "metadata": {},
   "outputs": [
    {
     "data": {
      "text/plain": [
       "8"
      ]
     },
     "execution_count": 14,
     "metadata": {},
     "output_type": "execute_result"
    }
   ],
   "source": [
    "myfun (5)"
   ]
  },
  {
   "cell_type": "markdown",
   "metadata": {},
   "source": [
    "## Keyword arguments\n",
    "\n",
    "<h3>\n",
    "     <ul>\n",
    "         <li>Functions can be called with arguments out of order</li>\n",
    "         <li>These arguments are specified in the call</li>\n",
    "         <li>Keyword arguments can be used for a fianl subset of the arguments</li>\n",
    "    </ul>\n",
    "</h3>"
   ]
  },
  {
   "cell_type": "code",
   "execution_count": 15,
   "metadata": {},
   "outputs": [],
   "source": [
    "def myfun (a, b, c) :\n",
    "    return a-b"
   ]
  },
  {
   "cell_type": "code",
   "execution_count": 16,
   "metadata": {},
   "outputs": [
    {
     "data": {
      "text/plain": [
       "1"
      ]
     },
     "execution_count": 16,
     "metadata": {},
     "output_type": "execute_result"
    }
   ],
   "source": [
    "myfun (2, 1, 43)"
   ]
  },
  {
   "cell_type": "code",
   "execution_count": 17,
   "metadata": {},
   "outputs": [
    {
     "data": {
      "text/plain": [
       "1"
      ]
     },
     "execution_count": 17,
     "metadata": {},
     "output_type": "execute_result"
    }
   ],
   "source": [
    "myfun (c=43, b=1, a=2)"
   ]
  },
  {
   "cell_type": "code",
   "execution_count": 18,
   "metadata": {},
   "outputs": [
    {
     "data": {
      "text/plain": [
       "1"
      ]
     },
     "execution_count": 18,
     "metadata": {},
     "output_type": "execute_result"
    }
   ],
   "source": [
    "myfun (2, c=43, b=1)"
   ]
  },
  {
   "cell_type": "code",
   "execution_count": null,
   "metadata": {},
   "outputs": [],
   "source": []
  }
 ],
 "metadata": {
  "kernelspec": {
   "display_name": "Python 3",
   "language": "python",
   "name": "python3"
  },
  "language_info": {
   "codemirror_mode": {
    "name": "ipython",
    "version": 3
   },
   "file_extension": ".py",
   "mimetype": "text/x-python",
   "name": "python",
   "nbconvert_exporter": "python",
   "pygments_lexer": "ipython3",
   "version": "3.8.3"
  }
 },
 "nbformat": 4,
 "nbformat_minor": 4
}
