{
 "cells": [
  {
   "cell_type": "markdown",
   "metadata": {},
   "source": [
    "## Morphological Tranformations\n",
    "### Goals\n",
    "<h4>\n",
    "    <ul>\n",
    "        <li>We will learn different morphological operations like Erosion, Dilation, Opening, Closing etc.</li>\n",
    "        <li>We will se different functions like : cv2.erode(), cv2.dilater(), cv2.morphologyEx() etc.</li>\n",
    "    </ul>\n",
    "</h4>"
   ]
  },
  {
   "cell_type": "markdown",
   "metadata": {},
   "source": [
    "##### 1.Erosion"
   ]
  },
  {
   "cell_type": "code",
   "execution_count": 2,
   "metadata": {},
   "outputs": [],
   "source": []
  },
  {
   "cell_type": "code",
   "execution_count": 2,
   "metadata": {},
   "outputs": [],
   "source": [
    "import cv2\n",
    "import numpy as np\n",
    "from matplotlib import pyplot as plt\n",
    "\n",
    "img = cv2.imread ('4-5_1.jpg', 0)\n",
    "kernel = np.ones ((5, 5), np.uint8)\n",
    "erosion = cv2.erode (img, kernel, iterations = 1)\n",
    "\n",
    "cv2.imshow ('img', img)\n",
    "cv2.imshow ('erosion', erosion)\n",
    "cv2.waitKey(0)\n",
    "cv2.destroyAllWindows()"
   ]
  },
  {
   "cell_type": "markdown",
   "metadata": {},
   "source": [
    "##### 2.Dilation"
   ]
  },
  {
   "cell_type": "code",
   "execution_count": 6,
   "metadata": {},
   "outputs": [],
   "source": [
    "import cv2\n",
    "import numpy as np\n",
    "from matplotlib import pyplot as plt\n",
    "\n",
    "img = cv2.imread ('4-5_2.jpg', 0)\n",
    "kernel = np.ones ((5, 5), np.uint8)\n",
    "dilation = cv2.dilate (img, kernel, iterations = 1)\n",
    "\n",
    "cv2.imshow ('img', img)\n",
    "cv2.imshow ('dilation', dilation)\n",
    "cv2.waitKey(0)\n",
    "cv2.destroyAllWindows()\n",
    "\n"
   ]
  },
  {
   "cell_type": "markdown",
   "metadata": {},
   "source": [
    "##### 3.Opening"
   ]
  },
  {
   "cell_type": "code",
   "execution_count": 8,
   "metadata": {},
   "outputs": [],
   "source": [
    "import cv2\n",
    "import numpy as np\n",
    "from matplotlib import pyplot as plt\n",
    "\n",
    "img = cv2.imread ('4-5_3.jpg', 0)\n",
    "kernel = np.ones ((5, 5), np.uint8)\n",
    "opening = cv2.morphologyEx (img, cv2.MORPH_OPEN, kernel)\n",
    "\n",
    "cv2.imshow ('img', img)\n",
    "cv2.imshow ('opening', opening)\n",
    "cv2.waitKey(0)\n",
    "cv2.destroyAllWindows()\n",
    "\n"
   ]
  },
  {
   "cell_type": "markdown",
   "metadata": {},
   "source": [
    "##### 4.Closing"
   ]
  },
  {
   "cell_type": "code",
   "execution_count": 17,
   "metadata": {},
   "outputs": [],
   "source": [
    "import cv2\n",
    "import numpy as np\n",
    "from matplotlib import pyplot as plt\n",
    "\n",
    "img = cv2.imread ('4-5_3.jpg', 0)\n",
    "kernel = np.ones ((5, 5), np.uint8)\n",
    "closing = cv2.morphologyEx (img, cv2.MORPH_CLOSE, kernel)\n",
    "\n",
    "cv2.imshow ('img', img)\n",
    "cv2.imshow ('closing', closing)\n",
    "cv2.waitKey(0)\n",
    "cv2.destroyAllWindows()\n",
    "\n"
   ]
  },
  {
   "cell_type": "markdown",
   "metadata": {},
   "source": [
    "##### 5.Gradient"
   ]
  },
  {
   "cell_type": "code",
   "execution_count": 10,
   "metadata": {},
   "outputs": [],
   "source": [
    "import cv2\n",
    "import numpy as np\n",
    "from matplotlib import pyplot as plt\n",
    "\n",
    "img = cv2.imread ('4-5_3.jpg', 0)\n",
    "kernel = np.ones ((5, 5), np.uint8)\n",
    "gradient = cv2.morphologyEx (img, cv2.MORPH_GRADIENT, kernel)\n",
    "\n",
    "cv2.imshow ('img', img)\n",
    "cv2.imshow ('gradient', gradient)\n",
    "cv2.waitKey(0)\n",
    "cv2.destroyAllWindows()\n",
    "\n"
   ]
  },
  {
   "cell_type": "markdown",
   "metadata": {},
   "source": [
    "##### 6.Tophat"
   ]
  },
  {
   "cell_type": "code",
   "execution_count": 13,
   "metadata": {},
   "outputs": [],
   "source": [
    "import cv2\n",
    "import numpy as np\n",
    "from matplotlib import pyplot as plt\n",
    "\n",
    "img = cv2.imread ('4-5_1.jpg', 0)\n",
    "kernel = np.ones ((5, 5), np.uint8)\n",
    "tophat = cv2.morphologyEx (img, cv2.MORPH_TOPHAT, kernel)\n",
    "\n",
    "cv2.imshow ('img', img)\n",
    "cv2.imshow ('tophat', tophat)\n",
    "cv2.waitKey(0)\n",
    "cv2.destroyAllWindows()\n",
    "\n"
   ]
  },
  {
   "cell_type": "markdown",
   "metadata": {},
   "source": [
    "##### 7.Blackhat"
   ]
  },
  {
   "cell_type": "code",
   "execution_count": 18,
   "metadata": {},
   "outputs": [],
   "source": [
    "import cv2\n",
    "import numpy as np\n",
    "from matplotlib import pyplot as plt\n",
    "\n",
    "img = cv2.imread ('4-5_1.jpg', 0)\n",
    "kernel = np.ones ((5, 5), np.uint8)\n",
    "blackhat = cv2.morphologyEx (img, cv2.MORPH_BLACKHAT, kernel)\n",
    "\n",
    "cv2.imshow ('img', img)\n",
    "cv2.imshow ('blackhat', tophat)\n",
    "cv2.waitKey(0)\n",
    "cv2.destroyAllWindows()\n",
    "\n"
   ]
  },
  {
   "cell_type": "code",
   "execution_count": 22,
   "metadata": {},
   "outputs": [
    {
     "data": {
      "text/plain": [
       "array([[0, 0, 1, 0, 0],\n",
       "       [0, 0, 1, 0, 0],\n",
       "       [1, 1, 1, 1, 1],\n",
       "       [0, 0, 1, 0, 0],\n",
       "       [0, 0, 1, 0, 0]], dtype=uint8)"
      ]
     },
     "execution_count": 22,
     "metadata": {},
     "output_type": "execute_result"
    }
   ],
   "source": [
    "import cv2\n",
    "import numpy as np\n",
    "from matplotlib import pyplot as plt\n",
    "\n",
    "cv2.getStructuringElement (cv2.MORPH_RECT, (5, 5))\n",
    "\n",
    "cv2.getStructuringElement (cv2.MORPH_ELLIPSE, (5, 5))\n",
    "\n",
    "cv2.getStructuringElement (cv2.MORPH_CROSS, (5, 5))"
   ]
  },
  {
   "cell_type": "code",
   "execution_count": null,
   "metadata": {},
   "outputs": [],
   "source": []
  }
 ],
 "metadata": {
  "kernelspec": {
   "display_name": "Python 3",
   "language": "python",
   "name": "python3"
  },
  "language_info": {
   "codemirror_mode": {
    "name": "ipython",
    "version": 3
   },
   "file_extension": ".py",
   "mimetype": "text/x-python",
   "name": "python",
   "nbconvert_exporter": "python",
   "pygments_lexer": "ipython3",
   "version": "3.8.3"
  }
 },
 "nbformat": 4,
 "nbformat_minor": 4
}
