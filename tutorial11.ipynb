{
 "cells": [
  {
   "cell_type": "markdown",
   "metadata": {},
   "source": [
    "# Importing and Modules\n",
    "\n",
    "## Import and Modules\n",
    "<h3>\n",
    "    <ul>\n",
    "        <li>Program will often use classes &amp; functions defined in another file</li>\n",
    "        <li>A Python module is a single file with the same name (plus the .py extension)</li>\n",
    "        <li><i>Modules can contain many classes and functions</i></li>\n",
    "        <li>Access using import (like Java)</li>\n",
    "    </ul>\n",
    "    Where does Python look for module files?\n",
    "    <ul>\n",
    "        <li>The list of directories where Python looks : sys.path</li>\n",
    "        <li>When Python starts up, this variable is initialized from the PYTHONPATH environment variable</li>\n",
    "        <li>To add a directory of your own to this list, append it to this list<br>\n",
    "            <code>sys.path.append('/my/new/path')</code>\n",
    "            <ul><li>\n",
    "            <h4>Oops! Operating system dependent...</h4>\n",
    "            </li></ul>\n",
    "        </li>        \n",
    "    </ul>\n",
    "</h3>"
   ]
  },
  {
   "cell_type": "markdown",
   "metadata": {},
   "source": [
    "## Import1\n",
    "\n",
    "<h3>\n",
    "   import somefile\n",
    "    <ul><li>\n",
    "        <i>Everything</i> in somefile.py can be referred to by :<br>\n",
    "        <code>\n",
    "            somefile.className.method(\"abc\")\n",
    "            somefile.myFunction(34)\n",
    "        </code>\n",
    "    </li></ul>\n",
    "    from somefile import *\n",
    "    <ul><li>\n",
    "        <i>Everything</i> in somefile.py can be referred to by :<br>\n",
    "        <code>\n",
    "            somefile.className.method(\"abc\")\n",
    "            somefile.myFunction(34)\n",
    "        </code><br>\n",
    "        <li>Careful! This can overwrite the definition of an existing function or varialbe!</li>\n",
    "    </li></ul>\n",
    "</h3>"
   ]
  },
  {
   "cell_type": "markdown",
   "metadata": {},
   "source": [
    "## Import2\n",
    "\n",
    "<h3>\n",
    "    from somefile import className\n",
    "    <ul>\n",
    "        <li>Only the item <i>className</i> in somefile.py gets imported.</li>\n",
    "        <li>Refer to it without a module prefix.</li>\n",
    "        <li>Caveat! This can overwrite an existing definition.</li>\n",
    "        <code>\n",
    "            className.method(\"abc\") &lt;- This was imported\n",
    "            myFunction(34) &lt;- Not this one\n",
    "        </code>\n",
    "    </ul>\n",
    "</h3>"
   ]
  },
  {
   "cell_type": "markdown",
   "metadata": {},
   "source": [
    "## Commonly Used Modules\n",
    "\n",
    "<h3>\n",
    "    <ul>\n",
    "        <li>Some useful modules, included with Python :<li>\n",
    "        <li>Module : sys     - Lots of handy stuff</li>\n",
    "        <li>Module : os      - OS specific code</li>\n",
    "        <li>Module : os.path - Directory processing.</li>\n",
    "        <li>The Python standard library has lots of other usefil stuff..</li>\n",
    "    </ul>\n",
    "</h3>"
   ]
  },
  {
   "cell_type": "markdown",
   "metadata": {},
   "source": [
    "## More Commonly Used Modules\n",
    "<h3>\n",
    "    <ul>\n",
    "        <li>Module : math    - Mathematical functions.</li>\n",
    "        <h4><ul>\n",
    "            <li>Exponents</li>\n",
    "            <li>sqrt</li>\n",
    "        </ul></h4>\n",
    "        <li>Module : Random   - Random numbers</li>\n",
    "        <h4><ul>\n",
    "            <li>Randragnge</li>\n",
    "            <li>Uniform</li>\n",
    "            <li>Choice</li>\n",
    "            <li>Shuffle</li>\n",
    "        </ul></h4>\n",
    "        <li>To see what's in the standard library of modules, check out the <a href = \"https://docs.python.org/3/library/index.html\">Python Library Reference</a>\n",
    "\n",
    "    </ul>\n",
    "</h3>\n",
    "    "
   ]
  },
  {
   "cell_type": "code",
   "execution_count": null,
   "metadata": {},
   "outputs": [],
   "source": []
  }
 ],
 "metadata": {
  "kernelspec": {
   "display_name": "Python 3",
   "language": "python",
   "name": "python3"
  },
  "language_info": {
   "codemirror_mode": {
    "name": "ipython",
    "version": 3
   },
   "file_extension": ".py",
   "mimetype": "text/x-python",
   "name": "python",
   "nbconvert_exporter": "python",
   "pygments_lexer": "ipython3",
   "version": "3.8.3"
  }
 },
 "nbformat": 4,
 "nbformat_minor": 4
}
