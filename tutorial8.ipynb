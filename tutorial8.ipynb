{
 "cells": [
  {
   "cell_type": "markdown",
   "metadata": {},
   "source": [
    "# List comprehensions\n",
    "\n",
    "## A powerful feature of the python language.\n",
    "### Generate a new list by aplying a cunction to every member of an orignal list.\n",
    "### Python prgrammers user list comprhensions extensively.\n",
    "\n",
    "#### <code> [expression for name in list] </code>\n",
    "<ul>\n",
    "   <li>expression is some calculation or operation acting upon the variable name.</li>\n",
    "    <li>For each member of the list, the comprehension<ol>\n",
    "        <li>sets name equal to that member, and</li>\n",
    "        <li>calcuates a new value using expression.</li>\n",
    "        </ol>\n",
    "    </li> \n",
    "    <li>It then collects these new values into a list which is the return value of the list comprehension. </li>\n",
    "</ul>"
   ]
  },
  {
   "cell_type": "code",
   "execution_count": 1,
   "metadata": {},
   "outputs": [],
   "source": [
    "li = [3, 6, 2, 7]"
   ]
  },
  {
   "cell_type": "code",
   "execution_count": 2,
   "metadata": {},
   "outputs": [
    {
     "data": {
      "text/plain": [
       "[6, 12, 4, 14]"
      ]
     },
     "execution_count": 2,
     "metadata": {},
     "output_type": "execute_result"
    }
   ],
   "source": [
    "[elem*2 for elem in li]"
   ]
  },
  {
   "cell_type": "markdown",
   "metadata": {},
   "source": [
    "#### If the elements of list are other collections, then name can be reaplced by a collection of names that match the \"shape\" of the list members."
   ]
  },
  {
   "cell_type": "code",
   "execution_count": 12,
   "metadata": {},
   "outputs": [
    {
     "data": {
      "text/plain": [
       "['d', 'e', 'f']"
      ]
     },
     "execution_count": 12,
     "metadata": {},
     "output_type": "execute_result"
    }
   ],
   "source": [
    "li = [('a', 1), ('b', 2), ('c', 7)]\n",
    "[n*3 for (x, n) in li]\n",
    "[chr(ord(x) + 3) for (x, n) in li]"
   ]
  },
  {
   "cell_type": "markdown",
   "metadata": {},
   "source": [
    "## Filtered list comprehension\n",
    "<h3> \n",
    "    <ul>\n",
    "        <li> Filter determinse whether expression is performed on each member of the list.</li>\n",
    "        <li> When precessing each element of list, first check if it statisfies th filter condition</li>\n",
    "        <li> If the filter condition returns Fals, that element is omitted from the list before the list comprehension is evaluated</li>        \n",
    "    </ul>    \n",
    "</h3>"
   ]
  },
  {
   "cell_type": "code",
   "execution_count": 13,
   "metadata": {},
   "outputs": [
    {
     "data": {
      "text/plain": [
       "[12, 14, 18]"
      ]
     },
     "execution_count": 13,
     "metadata": {},
     "output_type": "execute_result"
    }
   ],
   "source": [
    "li = [3, 6, 2, 7, 1, 9]\n",
    "[elem * 2 for elem in li if elem > 4]"
   ]
  },
  {
   "cell_type": "markdown",
   "metadata": {},
   "source": [
    "## Nested list comprehension\n",
    "\n",
    "<h3>\n",
    "    <ul>\n",
    "        <li>Since list comprehensions take a list as input and prduce a list as output, they are easily nested</li>\n",
    "    </ul>    \n",
    "</h3>\n",
    "    "
   ]
  },
  {
   "cell_type": "code",
   "execution_count": 15,
   "metadata": {},
   "outputs": [
    {
     "data": {
      "text/plain": [
       "[8, 6, 10, 4]"
      ]
     },
     "execution_count": 15,
     "metadata": {},
     "output_type": "execute_result"
    }
   ],
   "source": [
    "li = [3, 2, 4, 1]\n",
    "[elem*2 for elem in [item+1 for item in li]]"
   ]
  },
  {
   "cell_type": "markdown",
   "metadata": {},
   "source": [
    "# Caveat! The keywords for and in also appear in the syntax of list comprehensions, but this is a totally different construction."
   ]
  },
  {
   "cell_type": "code",
   "execution_count": null,
   "metadata": {},
   "outputs": [],
   "source": []
  }
 ],
 "metadata": {
  "kernelspec": {
   "display_name": "Python 3",
   "language": "python",
   "name": "python3"
  },
  "language_info": {
   "codemirror_mode": {
    "name": "ipython",
    "version": 3
   },
   "file_extension": ".py",
   "mimetype": "text/x-python",
   "name": "python",
   "nbconvert_exporter": "python",
   "pygments_lexer": "ipython3",
   "version": "3.8.3"
  }
 },
 "nbformat": 4,
 "nbformat_minor": 4
}
