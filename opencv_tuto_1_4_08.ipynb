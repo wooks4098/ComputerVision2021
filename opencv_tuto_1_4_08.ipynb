{
 "cells": [
  {
   "cell_type": "markdown",
   "metadata": {},
   "source": [
    "# 1.4.8 Image Pyramids\n",
    "<h3>\n",
    "    Goal\n",
    "    <ul>\n",
    "        <li>We will learn about Image Pyramids</li>\n",
    "        <li>We will use Image pyramids to create a new fruit, \"Orapple\"</li>\n",
    "        <li>We will see these functions : cv2.pyrUp(), cv2.ptrDown()</li>\n",
    "    </ul>\n",
    "    </h3>"
   ]
  },
  {
   "cell_type": "code",
   "execution_count": 2,
   "metadata": {},
   "outputs": [],
   "source": [
    "import cv2\n",
    "import numpy as np\n",
    "from matplotlib import pyplot as plt\n",
    "\n",
    "img = cv2.imread('sIMG_8256.jpg')\n",
    "lower_reso = cv2.pyrDown(img)\n",
    "higher_reso2 = cv2.pyrUp(lower_reso)\n",
    "\n",
    "cv2.imshow('image', img)\n",
    "cv2.imshow('lower_reso', lower_reso)\n",
    "cv2.imshow('higher_reso', higher_reso2)\n",
    "cv2.waitKey(0)\n",
    "\n",
    "cv2.destroyAllWindows()\n",
    "\n",
    "edges = cv2.Canny(img, 100, 200)\n",
    "edges_lower = cv2.Canny(lower_reso, 100, 200)\n",
    "edges_higher = cv2.Canny(higher_reso, 100, 200)\n",
    "\n",
    "cv2.imshow('edge', edges)\n",
    "cv2.imshow('lower_edge', edges_lower)\n",
    "cv2.imshow('higher_edge', edges_higher)\n",
    "cv2.waitKey(0)\n",
    "\n",
    "cv2.destroyAllWindows()\n"
   ]
  },
  {
   "cell_type": "code",
   "execution_count": 19,
   "metadata": {},
   "outputs": [
    {
     "data": {
      "text/plain": [
       "True"
      ]
     },
     "execution_count": 19,
     "metadata": {},
     "output_type": "execute_result"
    }
   ],
   "source": [
    "import cv2\n",
    "import numpy as np, sys\n",
    "\n",
    "A = cv2.imread ('sIMG_2164.jpg')\n",
    "B = cv2.imread ('sIMG_2168.jpg')\n",
    "\n",
    "# generate Gaussian pyramid for A\n",
    "G = A.copy()\n",
    "gpA = [G]\n",
    "for i in range(6) :\n",
    "    G = cv2.pyrDown (G)\n",
    "    gpA.append (G)\n",
    "    \n",
    "# generate Gaussian pyramid for B\n",
    "G = B.copy()\n",
    "gpB = [G]\n",
    "for i in range(6) :\n",
    "    G = cv2.pyrDown (G)\n",
    "    gpB.append (G)\n",
    "    \n",
    "# generate Laplacion Pyramid for A\n",
    "lpA = [gpA[5]]\n",
    "for i in range (5, 0, -1) :\n",
    "    GE = cv2.pyrUp (gpA[i])\n",
    "    L = cv2.subtract (gpA[i-1], GE)\n",
    "    lpA.append (L)\n",
    "    \n",
    "# generate Laplacion Pyramid for B\n",
    "lpB = [gpB[5]]\n",
    "for i in range (5, 0, -1) :\n",
    "    GE = cv2.pyrUp (gpB[i])\n",
    "    L = cv2.subtract (gpB[i-1], GE)\n",
    "    lpB.append (L)\n",
    "    \n",
    "# Now add left and right halves of images in each level\\\n",
    "LS = []\n",
    "for la, lb in zip (lpA, lpB) :\n",
    "    rows, cols, dpt = la.shape\n",
    "    ls = np.hstack((la[:,0:cols//2], lb[:,cols//2:]))\n",
    "    LS.append(ls)\n",
    "    \n",
    "# now reconstruct\n",
    "ls_ = LS[0]\n",
    "for i in range (1, 6) :\n",
    "    ls_ = cv2.pyrUp(ls_)\n",
    "    ls_ = cv2.add(ls_, LS[i])\n",
    "    \n",
    "# image with direct connecting each half\n",
    "#real = np.hstack((A[:, :cols/2], B[:, cols/2:]))\n",
    "real = np.hstack((A[:,:cols//2], B[:,cols//2:]))\n",
    "\n",
    "cv2.imwrite ('Pyramid_blending2.jpg', ls_)\n",
    "cv2.imwrite ('Direct_blending2.jpg', real)\n",
    "\n",
    "    "
   ]
  },
  {
   "cell_type": "code",
   "execution_count": null,
   "metadata": {},
   "outputs": [],
   "source": []
  }
 ],
 "metadata": {
  "kernelspec": {
   "display_name": "Python 3",
   "language": "python",
   "name": "python3"
  },
  "language_info": {
   "codemirror_mode": {
    "name": "ipython",
    "version": 3
   },
   "file_extension": ".py",
   "mimetype": "text/x-python",
   "name": "python",
   "nbconvert_exporter": "python",
   "pygments_lexer": "ipython3",
   "version": "3.8.3"
  }
 },
 "nbformat": 4,
 "nbformat_minor": 4
}
